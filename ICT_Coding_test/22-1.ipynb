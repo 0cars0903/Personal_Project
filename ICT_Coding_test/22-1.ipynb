{
 "cells": [
  {
   "cell_type": "code",
   "execution_count": 16,
   "id": "0d4e6a31",
   "metadata": {},
   "outputs": [
    {
     "name": "stdout",
     "output_type": "stream",
     "text": [
      "2\n"
     ]
    }
   ],
   "source": [
    "lottery = [[1, 0], [35, 0], [1, 0], [100, 1], [35, 1], [100, 1], [35, 0], [1, 1], [1, 1]]\n",
    "dic = {} # ID List\n",
    "vic = [] # 당첨 여부\n",
    "for i in lottery:\n",
    "    # 당첨 되지 않은 경우만 선택(continue)\n",
    "    if i[0] in vic:\n",
    "        continue\n",
    "    # dic에 추가\n",
    "    if i[0] not in dic.keys():\n",
    "        dic[i[0]] = 1\n",
    "    else:\n",
    "        dic[i[0]] += 1\n",
    "    # 당첨되었을 경우 당점 list에 추가\n",
    "    if i[1] == 1:\n",
    "        vic.append(i[0])\n",
    "\n",
    "ans = sum(dic.values()) // len(dic.keys())\n",
    "print(ans)"
   ]
  },
  {
   "cell_type": "code",
   "execution_count": 22,
   "id": "8eac0204",
   "metadata": {},
   "outputs": [
    {
     "name": "stdout",
     "output_type": "stream",
     "text": [
      "0\n"
     ]
    }
   ],
   "source": [
    "Math_scores = [80, 50, 30, 20, 10]\n",
    "English_scores = [24, 39, 47, 63, 75]\n",
    "cnt = 0\n",
    "l = len(Math_scores)\n",
    "\n",
    "for i in range(l):\n",
    "    for j in range(i+1, l):\n",
    "        if Math_scores[i] < Math_scores[j]:\n",
    "            if English_scores[i] < English_scores[j]:\n",
    "                cnt += 1\n",
    "        if Math_scores[i] > Math_scores[j]:\n",
    "            if English_scores[i] > English_scores[j]:\n",
    "                cnt += 1 \n",
    "print(cnt)"
   ]
  },
  {
   "cell_type": "code",
   "execution_count": 28,
   "id": "16282046",
   "metadata": {},
   "outputs": [
    {
     "name": "stdout",
     "output_type": "stream",
     "text": [
      "2\n"
     ]
    }
   ],
   "source": [
    "m = 4\n",
    "v = [2,3,1]\n",
    "\n",
    "from collections import deque\n",
    "while True:\n",
    "    stack = deque(sorted(v))\n",
    "    agg = v[0] + v[-1]\n",
    "    if agg <= m:\n",
    "        stack.pop()\n",
    "        stack.popleft()\n",
    "        stack.append(agg)\n",
    "    if v == stack:\n",
    "        break\n",
    "    v = stack\n",
    "ans = len(v)\n",
    "print(ans)"
   ]
  },
  {
   "cell_type": "code",
   "execution_count": null,
   "id": "d514e1fa",
   "metadata": {},
   "outputs": [],
   "source": []
  }
 ],
 "metadata": {
  "kernelspec": {
   "display_name": "Python 3 (ipykernel)",
   "language": "python",
   "name": "python3"
  },
  "language_info": {
   "codemirror_mode": {
    "name": "ipython",
    "version": 3
   },
   "file_extension": ".py",
   "mimetype": "text/x-python",
   "name": "python",
   "nbconvert_exporter": "python",
   "pygments_lexer": "ipython3",
   "version": "3.8.16"
  }
 },
 "nbformat": 4,
 "nbformat_minor": 5
}
