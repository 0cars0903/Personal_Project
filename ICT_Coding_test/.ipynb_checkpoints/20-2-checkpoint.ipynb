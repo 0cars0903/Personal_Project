{
 "cells": [
  {
   "cell_type": "code",
   "execution_count": 21,
   "id": "06d14488",
   "metadata": {},
   "outputs": [
    {
     "name": "stdout",
     "output_type": "stream",
     "text": [
      "-1\n"
     ]
    }
   ],
   "source": [
    "lst = [1,1,-1,1]\n",
    "s = 3\n",
    "cnt = 0\n",
    "for i in range(len(lst)):\n",
    "    j = i\n",
    "    while j < len(lst):\n",
    "        j += 1\n",
    "        if sum(lst[i:j]) == s:\n",
    "            cnt += 1\n",
    "print(cnt)"
   ]
  },
  {
   "cell_type": "code",
   "execution_count": 1,
   "id": "7812ea02",
   "metadata": {},
   "outputs": [
    {
     "name": "stdout",
     "output_type": "stream",
     "text": [
      "False\n"
     ]
    }
   ],
   "source": [
    "x = 2\n",
    "y = 2\n",
    "mapping = []\n",
    "travel = [[0,0]]\n",
    "# 지도 만들기\n",
    "for i in range(0,x):\n",
    "    for j in range(0,y):\n",
    "        mapping.append([i,j])\n",
    "# 이동경로 작성\n",
    "while True: \n",
    "    a = [(travel[-1][0]+1)%x, (travel[-1][1]+1)%y]\n",
    "    if a in travel:\n",
    "        break\n",
    "    travel.append(a)\n",
    "travel = sorted(travel)\n",
    "# 이동경로와 지도 일치 여부 확인\n",
    "if travel == mapping:\n",
    "    ans = True\n",
    "else:\n",
    "    ans = False\n",
    "    \n",
    "print(ans)"
   ]
  },
  {
   "cell_type": "code",
   "execution_count": null,
   "id": "8d6a1aa4",
   "metadata": {},
   "outputs": [],
   "source": [
    "b = 5\n",
    "a = 0\n",
    "ans = -1\n",
    "while a <= b:\n",
    "    a += 1\n",
    "    agg = (a**2 + b**2)\n",
    "    c = int(agg**(1/2))\n",
    "    if agg == c**2:\n",
    "        ans = c\n",
    "        break\n",
    "print(ans)"
   ]
  }
 ],
 "metadata": {
  "kernelspec": {
   "display_name": "Python 3 (ipykernel)",
   "language": "python",
   "name": "python3"
  },
  "language_info": {
   "codemirror_mode": {
    "name": "ipython",
    "version": 3
   },
   "file_extension": ".py",
   "mimetype": "text/x-python",
   "name": "python",
   "nbconvert_exporter": "python",
   "pygments_lexer": "ipython3",
   "version": "3.8.16"
  }
 },
 "nbformat": 4,
 "nbformat_minor": 5
}
