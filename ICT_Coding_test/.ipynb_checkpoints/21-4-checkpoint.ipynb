{
 "cells": [
  {
   "cell_type": "code",
   "execution_count": 19,
   "id": "b2835788",
   "metadata": {},
   "outputs": [
    {
     "name": "stdout",
     "output_type": "stream",
     "text": [
      "NITKONM\n"
     ]
    }
   ],
   "source": [
    "# 01\n",
    "string = 'NFTIsTheKindOfNewMETA'\n",
    "\n",
    "answer = string[0]\n",
    "big = [chr(i) for i in range(65,91)]\n",
    "small = [chr(i) for i in range(97,122)]\n",
    "for j in range(1, len(string)-1):\n",
    "    if string[j] in big:\n",
    "        if (string[j-1] in small) or (string[j+1] in small):\n",
    "            answer += string[j]\n",
    "print(answer)"
   ]
  },
  {
   "cell_type": "code",
   "execution_count": 28,
   "id": "c27e9a87",
   "metadata": {},
   "outputs": [
    {
     "name": "stdout",
     "output_type": "stream",
     "text": [
      "25\n"
     ]
    }
   ],
   "source": [
    "# 02\n",
    "n = 3\n",
    "lst = [[2,6,4],[3,8,5],[9,1,7]]\n",
    "x,y = 0,0\n",
    "agg = 0\n",
    "for num in range(1,10):\n",
    "    for i in range(n):\n",
    "        for j in range(n):\n",
    "            if lst[i][j] == num:\n",
    "                a = abs(i-x)\n",
    "                if a > n / 2:\n",
    "                    a = n - a\n",
    "                b = abs(j-y)\n",
    "                if b > n / 2:\n",
    "                    b = n - b\n",
    "                agg += a+b+1\n",
    "                x,y = i,j\n",
    "print(agg)"
   ]
  },
  {
   "cell_type": "code",
   "execution_count": null,
   "id": "12f42437",
   "metadata": {},
   "outputs": [],
   "source": [
    "# 풀리지 않는 문제"
   ]
  }
 ],
 "metadata": {
  "kernelspec": {
   "display_name": "Python 3 (ipykernel)",
   "language": "python",
   "name": "python3"
  },
  "language_info": {
   "codemirror_mode": {
    "name": "ipython",
    "version": 3
   },
   "file_extension": ".py",
   "mimetype": "text/x-python",
   "name": "python",
   "nbconvert_exporter": "python",
   "pygments_lexer": "ipython3",
   "version": "3.8.16"
  }
 },
 "nbformat": 4,
 "nbformat_minor": 5
}
