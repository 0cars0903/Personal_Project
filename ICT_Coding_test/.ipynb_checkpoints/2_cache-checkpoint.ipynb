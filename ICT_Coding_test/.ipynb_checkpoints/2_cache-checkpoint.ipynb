{
 "cells": [
  {
   "cell_type": "code",
   "execution_count": 1,
   "id": "9dcdf2a3",
   "metadata": {},
   "outputs": [],
   "source": [
    "arr1 = [[1, 4], [3, 2], [4, 1]]\n",
    "arr2 = [[3, 3], [3, 3]]\n",
    "ans = [[15, 15], [15, 15], [15, 15]]"
   ]
  },
  {
   "cell_type": "code",
   "execution_count": null,
   "id": "99f0f067",
   "metadata": {},
   "outputs": [],
   "source": []
  }
 ],
 "metadata": {
  "kernelspec": {
   "display_name": "Python 3 (ipykernel)",
   "language": "python",
   "name": "python3"
  },
  "language_info": {
   "codemirror_mode": {
    "name": "ipython",
    "version": 3
   },
   "file_extension": ".py",
   "mimetype": "text/x-python",
   "name": "python",
   "nbconvert_exporter": "python",
   "pygments_lexer": "ipython3",
   "version": "3.9.16"
  }
 },
 "nbformat": 4,
 "nbformat_minor": 5
}
