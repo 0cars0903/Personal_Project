{
 "cells": [
  {
   "cell_type": "code",
   "execution_count": 21,
   "id": "074d915a",
   "metadata": {},
   "outputs": [],
   "source": [
    "priorities = [1, 1, 9, 2, 3, 1]\n",
    "location = 3\n",
    "ans = 5"
   ]
  },
  {
   "cell_type": "code",
   "execution_count": 22,
   "id": "891844c2",
   "metadata": {},
   "outputs": [],
   "source": [
    "def solution(priorities, location):\n",
    "    queue =  [(i,p) for i,p in enumerate(priorities)]\n",
    "    answer = 0\n",
    "    while True:\n",
    "        cur = queue.pop(0)\n",
    "        if any(cur[1] < q[1] for q in queue):\n",
    "            queue.append(cur)\n",
    "        else:\n",
    "            answer += 1\n",
    "            if cur[0] == location:\n",
    "                return answer"
   ]
  },
  {
   "cell_type": "code",
   "execution_count": null,
   "id": "724791a0",
   "metadata": {},
   "outputs": [],
   "source": [
    "def solution(p, l):\n",
    "    ans = 0\n",
    "    m = max(p)\n",
    "    while True:\n",
    "        v = p.pop(0)\n",
    "        if m == v:\n",
    "            ans += 1\n",
    "            if l == 0:\n",
    "                break\n",
    "            else:\n",
    "                l -= 1\n",
    "            m = max(p)\n",
    "        else:\n",
    "            p.append(v)\n",
    "            if l == 0:\n",
    "                l = len(p)-1\n",
    "            else:\n",
    "                l -= 1\n",
    "    return ans"
   ]
  },
  {
   "cell_type": "code",
   "execution_count": null,
   "id": "e5d966be",
   "metadata": {},
   "outputs": [],
   "source": []
  }
 ],
 "metadata": {
  "kernelspec": {
   "display_name": "Python 3 (ipykernel)",
   "language": "python",
   "name": "python3"
  },
  "language_info": {
   "codemirror_mode": {
    "name": "ipython",
    "version": 3
   },
   "file_extension": ".py",
   "mimetype": "text/x-python",
   "name": "python",
   "nbconvert_exporter": "python",
   "pygments_lexer": "ipython3",
   "version": "3.9.16"
  }
 },
 "nbformat": 4,
 "nbformat_minor": 5
}
