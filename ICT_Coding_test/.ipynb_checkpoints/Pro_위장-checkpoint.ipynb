{
 "cells": [
  {
   "cell_type": "code",
   "execution_count": 29,
   "id": "a72292f6",
   "metadata": {},
   "outputs": [],
   "source": [
    "clothes = [[\"crow_mask\", \"face\"], [\"blue_sunglasses\", \"face\"], [\"smoky_makeup\", \"face\"]]"
   ]
  },
  {
   "cell_type": "code",
   "execution_count": 31,
   "id": "2aa50a46",
   "metadata": {},
   "outputs": [
    {
     "name": "stdout",
     "output_type": "stream",
     "text": [
      "3\n"
     ]
    }
   ],
   "source": [
    "dic = {}\n",
    "for a, b in clothes:\n",
    "    if b not in dic.keys():\n",
    "        dic[b] = []\n",
    "        dic[b].append(a)\n",
    "    else:\n",
    "        dic[b].append(a)\n",
    "\n",
    "agg = 0\n",
    "answer = 1\n",
    "for i in dic.keys():\n",
    "    agg = len(dic[i])+1\n",
    "    answer *= agg\n",
    "print(answer-1)"
   ]
  },
  {
   "cell_type": "code",
   "execution_count": null,
   "id": "ae5c678f",
   "metadata": {},
   "outputs": [],
   "source": []
  }
 ],
 "metadata": {
  "kernelspec": {
   "display_name": "Python 3 (ipykernel)",
   "language": "python",
   "name": "python3"
  },
  "language_info": {
   "codemirror_mode": {
    "name": "ipython",
    "version": 3
   },
   "file_extension": ".py",
   "mimetype": "text/x-python",
   "name": "python",
   "nbconvert_exporter": "python",
   "pygments_lexer": "ipython3",
   "version": "3.8.16"
  }
 },
 "nbformat": 4,
 "nbformat_minor": 5
}
