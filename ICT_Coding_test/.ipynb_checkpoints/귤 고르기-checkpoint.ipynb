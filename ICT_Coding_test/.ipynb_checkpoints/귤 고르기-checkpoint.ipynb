{
 "cells": [
  {
   "cell_type": "code",
   "execution_count": 84,
   "id": "052f259f",
   "metadata": {},
   "outputs": [],
   "source": [
    "k = 4\n",
    "tangerine = [1, 3, 2, 5, 4, 5, 2, 3]\n",
    "n = 2"
   ]
  },
  {
   "cell_type": "code",
   "execution_count": 85,
   "id": "3f8eab96",
   "metadata": {},
   "outputs": [
    {
     "name": "stdout",
     "output_type": "stream",
     "text": [
      "2\n"
     ]
    }
   ],
   "source": [
    "dic = {}\n",
    "for tan in tangerine:\n",
    "    if tan not in dic.keys():\n",
    "        dic[tan] = 1\n",
    "    else:\n",
    "        dic[tan] += 1\n",
    "count = list(dic.items())\n",
    "count.sort(key = lambda x :(x[1], x[0]),reverse=True)\n",
    "answer = 0\n",
    "for lst in count:\n",
    "    answer += 1\n",
    "    k -= lst[1]\n",
    "    if k <= 0:\n",
    "        break\n",
    "print(answer)"
   ]
  },
  {
   "cell_type": "code",
   "execution_count": null,
   "id": "08d6e8a9",
   "metadata": {},
   "outputs": [],
   "source": [
    "from itertools import permutations\n",
    "def solution(k, tangerine):\n",
    "    answer = []\n",
    "    lst = list(permutations(tangerine, k))\n",
    "    for com in lst:\n",
    "        answer.append(len(set(com)))\n",
    "    return min(answer)"
   ]
  }
 ],
 "metadata": {
  "kernelspec": {
   "display_name": "Python 3 (ipykernel)",
   "language": "python",
   "name": "python3"
  },
  "language_info": {
   "codemirror_mode": {
    "name": "ipython",
    "version": 3
   },
   "file_extension": ".py",
   "mimetype": "text/x-python",
   "name": "python",
   "nbconvert_exporter": "python",
   "pygments_lexer": "ipython3",
   "version": "3.9.16"
  }
 },
 "nbformat": 4,
 "nbformat_minor": 5
}
