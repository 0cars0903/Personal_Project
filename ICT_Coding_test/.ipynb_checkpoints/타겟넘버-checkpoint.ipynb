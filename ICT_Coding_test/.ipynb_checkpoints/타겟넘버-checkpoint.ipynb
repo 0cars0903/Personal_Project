{
 "cells": [
  {
   "cell_type": "code",
   "execution_count": 1,
   "id": "ba04542c",
   "metadata": {},
   "outputs": [],
   "source": [
    "numbers = [4, 1, 2, 1]\n",
    "target = 4\n",
    "result = 2"
   ]
  },
  {
   "cell_type": "code",
   "execution_count": 2,
   "id": "e490de57",
   "metadata": {},
   "outputs": [
    {
     "name": "stdout",
     "output_type": "stream",
     "text": [
      "deque([4, -4])\n",
      "deque([5, 3, -3, -5])\n",
      "deque([7, 3, 5, 1, -1, -5, -3, -7])\n",
      "deque([8, 6, 4, 2, 6, 4, 2, 0, 0, -2, -4, -6, -2, -4, -6, -8])\n",
      "2\n"
     ]
    }
   ],
   "source": [
    "from collections import deque\n",
    "\n",
    "lst = deque([0])\n",
    "\n",
    "i = -1\n",
    "while len(lst) < 2**(len(numbers)):\n",
    "    i += 1\n",
    "    for _ in range(len(lst)):\n",
    "        num = lst.popleft()\n",
    "        lst.append(num + numbers[i])\n",
    "        lst.append(num - numbers[i])\n",
    "print(lst.count(target))"
   ]
  },
  {
   "cell_type": "code",
   "execution_count": null,
   "id": "7a81faad",
   "metadata": {},
   "outputs": [],
   "source": []
  }
 ],
 "metadata": {
  "kernelspec": {
   "display_name": "Python 3 (ipykernel)",
   "language": "python",
   "name": "python3"
  },
  "language_info": {
   "codemirror_mode": {
    "name": "ipython",
    "version": 3
   },
   "file_extension": ".py",
   "mimetype": "text/x-python",
   "name": "python",
   "nbconvert_exporter": "python",
   "pygments_lexer": "ipython3",
   "version": "3.8.16"
  }
 },
 "nbformat": 4,
 "nbformat_minor": 5
}
