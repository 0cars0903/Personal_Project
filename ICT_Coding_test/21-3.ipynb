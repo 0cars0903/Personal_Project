{
 "cells": [
  {
   "cell_type": "code",
   "execution_count": 1,
   "id": "023c8d6e",
   "metadata": {},
   "outputs": [
    {
     "name": "stdout",
     "output_type": "stream",
     "text": [
      "['C', 'F', 'S']\n"
     ]
    }
   ],
   "source": [
    "est = ['A', 'B' ] \n",
    "new = ['A', 'C', 'C', 'B', 'F', 'S' ]\n",
    "\n",
    "ans = []\n",
    "for n in new:\n",
    "    if n not in est:\n",
    "        ans.append(n)\n",
    "        est.append(n)\n",
    "print(ans)"
   ]
  },
  {
   "cell_type": "code",
   "execution_count": 4,
   "id": "04b42384",
   "metadata": {},
   "outputs": [
    {
     "name": "stdout",
     "output_type": "stream",
     "text": [
      "[2, 3]\n"
     ]
    }
   ],
   "source": [
    "n = 8\n",
    "def vac(n):\n",
    "    if n == 1:\n",
    "        return [0,1]\n",
    "    if n > 2 and n < 6:\n",
    "        return [0,2]\n",
    "    if n == 6:\n",
    "        return [1,2]\n",
    "    if n == 7:\n",
    "        return [2,2]\n",
    "if n <= 7:\n",
    "    ans = vac(n)\n",
    "else:\n",
    "    a = n // 7\n",
    "    b = n % 7\n",
    "    ans = [2*a + vac(b)[0],2*a + vac(b)[1]]\n",
    "\n",
    "print(ans)"
   ]
  },
  {
   "cell_type": "code",
   "execution_count": 12,
   "id": "28f19554",
   "metadata": {},
   "outputs": [
    {
     "name": "stdout",
     "output_type": "stream",
     "text": [
      "['999', '1000']\n"
     ]
    }
   ],
   "source": [
    "lst = ['93', '1103']\n",
    "\n",
    "ans = []\n",
    "for l in lst:\n",
    "    answer = ''\n",
    "    for i in range(len(l)):\n",
    "        if i % 2 == 0:\n",
    "            answer += l[i] * int(l[i+1])\n",
    "    ans.append(answer)\n",
    "print(ans)"
   ]
  },
  {
   "cell_type": "code",
   "execution_count": null,
   "id": "bc3f340a",
   "metadata": {},
   "outputs": [],
   "source": []
  }
 ],
 "metadata": {
  "kernelspec": {
   "display_name": "Python 3 (ipykernel)",
   "language": "python",
   "name": "python3"
  },
  "language_info": {
   "codemirror_mode": {
    "name": "ipython",
    "version": 3
   },
   "file_extension": ".py",
   "mimetype": "text/x-python",
   "name": "python",
   "nbconvert_exporter": "python",
   "pygments_lexer": "ipython3",
   "version": "3.8.16"
  }
 },
 "nbformat": 4,
 "nbformat_minor": 5
}
