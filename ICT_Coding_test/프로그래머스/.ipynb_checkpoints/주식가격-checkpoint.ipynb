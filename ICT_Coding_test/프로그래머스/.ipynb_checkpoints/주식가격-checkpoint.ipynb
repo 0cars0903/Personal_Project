{
 "cells": [
  {
   "cell_type": "code",
   "execution_count": 3,
   "id": "b59112e1",
   "metadata": {},
   "outputs": [],
   "source": [
    "prices = [1, 2, 3, 2, 3]\n",
    "result = [4, 3, 1, 1, 0]"
   ]
  },
  {
   "cell_type": "code",
   "execution_count": 4,
   "id": "cab8e61a",
   "metadata": {},
   "outputs": [],
   "source": [
    "from collections import deque\n",
    "answer = []\n",
    "prices = deque(prices)\n",
    "\n",
    "while prices:\n",
    "    num = prices.popleft()\n",
    "    cnt = 0\n",
    "    for price in prices:\n",
    "        cnt += 1\n",
    "        if num > price:\n",
    "            break\n",
    "    answer.append(cnt)"
   ]
  },
  {
   "cell_type": "code",
   "execution_count": 5,
   "id": "7000af40",
   "metadata": {},
   "outputs": [
    {
     "data": {
      "text/plain": [
       "[4, 3, 1, 1, 0]"
      ]
     },
     "execution_count": 5,
     "metadata": {},
     "output_type": "execute_result"
    }
   ],
   "source": [
    "answer"
   ]
  },
  {
   "cell_type": "code",
   "execution_count": null,
   "id": "8a63033d",
   "metadata": {},
   "outputs": [],
   "source": []
  }
 ],
 "metadata": {
  "kernelspec": {
   "display_name": "Python 3 (ipykernel)",
   "language": "python",
   "name": "python3"
  },
  "language_info": {
   "codemirror_mode": {
    "name": "ipython",
    "version": 3
   },
   "file_extension": ".py",
   "mimetype": "text/x-python",
   "name": "python",
   "nbconvert_exporter": "python",
   "pygments_lexer": "ipython3",
   "version": "3.8.16"
  }
 },
 "nbformat": 4,
 "nbformat_minor": 5
}
