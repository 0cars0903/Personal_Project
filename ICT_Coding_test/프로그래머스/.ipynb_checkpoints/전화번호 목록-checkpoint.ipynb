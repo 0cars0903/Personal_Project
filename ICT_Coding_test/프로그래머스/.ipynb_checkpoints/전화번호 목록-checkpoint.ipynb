{
 "cells": [
  {
   "cell_type": "code",
   "execution_count": 2,
   "id": "cdd1436e",
   "metadata": {},
   "outputs": [],
   "source": [
    "phone_book = [\"012\",\"0123\",\"1235\",\"567\",\"88\"]"
   ]
  },
  {
   "cell_type": "code",
   "execution_count": 3,
   "id": "89656aac",
   "metadata": {},
   "outputs": [],
   "source": [
    "dic = {}\n",
    "\n",
    "for num in phone_book:\n",
    "    dic[num] = 1\n",
    "    word = \"\"\n",
    "    for w in num:\n",
    "        word += w\n",
    "        if word in dic and word != num:\n",
    "            dic[num] = 0\n",
    "answer = all(dic.values())"
   ]
  },
  {
   "cell_type": "code",
   "execution_count": 4,
   "id": "3c59b440",
   "metadata": {},
   "outputs": [
    {
     "data": {
      "text/plain": [
       "{'012': 1, '0123': 0, '1235': 1, '567': 1, '88': 1}"
      ]
     },
     "execution_count": 4,
     "metadata": {},
     "output_type": "execute_result"
    }
   ],
   "source": [
    "dic"
   ]
  },
  {
   "cell_type": "code",
   "execution_count": 5,
   "id": "8186e89b",
   "metadata": {},
   "outputs": [
    {
     "data": {
      "text/plain": [
       "False"
      ]
     },
     "execution_count": 5,
     "metadata": {},
     "output_type": "execute_result"
    }
   ],
   "source": [
    "answer"
   ]
  },
  {
   "cell_type": "code",
   "execution_count": null,
   "id": "943f9a00",
   "metadata": {},
   "outputs": [],
   "source": [
    "def solution(phone_book):\n",
    "    dic = {}\n",
    "    for num in phone_book:\n",
    "        dic[num] = 1\n",
    "    for num in phone_book:\n",
    "        word = \"\"\n",
    "        for w in num:\n",
    "            word += w\n",
    "            if word in dic and word != num:\n",
    "                return False\n",
    "    return True"
   ]
  }
 ],
 "metadata": {
  "kernelspec": {
   "display_name": "Python 3 (ipykernel)",
   "language": "python",
   "name": "python3"
  },
  "language_info": {
   "codemirror_mode": {
    "name": "ipython",
    "version": 3
   },
   "file_extension": ".py",
   "mimetype": "text/x-python",
   "name": "python",
   "nbconvert_exporter": "python",
   "pygments_lexer": "ipython3",
   "version": "3.8.16"
  }
 },
 "nbformat": 4,
 "nbformat_minor": 5
}
