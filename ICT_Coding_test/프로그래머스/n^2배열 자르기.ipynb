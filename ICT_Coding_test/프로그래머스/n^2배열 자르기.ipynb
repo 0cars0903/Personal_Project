{
 "cells": [
  {
   "cell_type": "code",
   "execution_count": 1,
   "id": "62fa065c",
   "metadata": {},
   "outputs": [],
   "source": [
    "n= 3\n",
    "left = 2\n",
    "right = 5\n",
    "answer = [3,2,3,3]"
   ]
  },
  {
   "cell_type": "code",
   "execution_count": 12,
   "id": "9349f361",
   "metadata": {},
   "outputs": [
    {
     "name": "stdout",
     "output_type": "stream",
     "text": [
      "[1, 2, 3, 2, 2, 3, 3, 3]\n",
      "[3, 2, 2, 3]\n"
     ]
    }
   ],
   "source": [
    "lst = []\n",
    "for i in range(1,n+1):\n",
    "    for _ in range(i):\n",
    "        lst.append(i)\n",
    "        j = i\n",
    "    while len(lst) < n:\n",
    "        j += 1\n",
    "        lst.append(j)\n",
    "print(lst)\n",
    "answer = lst[left:right+1]\n",
    "print(answer)"
   ]
  },
  {
   "cell_type": "code",
   "execution_count": 25,
   "id": "443cb750",
   "metadata": {},
   "outputs": [],
   "source": [
    "n= 4\n",
    "left = 7\n",
    "right = 14\n",
    "answer = [4, 3, 3, 3, 4, 4, 4, 4]"
   ]
  },
  {
   "cell_type": "code",
   "execution_count": 40,
   "id": "f363c043",
   "metadata": {},
   "outputs": [
    {
     "name": "stdout",
     "output_type": "stream",
     "text": [
      "[1, 2, 3, 4, 2, 2, 3, 4, 3, 3, 3, 4, 4, 4, 4, 4]\n"
     ]
    }
   ],
   "source": [
    "# ans = []\n",
    "# for i in range(1,n+1):\n",
    "#     lst = []\n",
    "#     for _ in range(i):\n",
    "#         lst.append(i)\n",
    "#         ans.append(i)\n",
    "#         j = i\n",
    "#     while len(lst) < n:\n",
    "#         j += 1\n",
    "#         lst.append(j)\n",
    "#         ans.append(j)\n",
    "# print(ans)"
   ]
  },
  {
   "cell_type": "code",
   "execution_count": 48,
   "id": "1f38fe6e",
   "metadata": {},
   "outputs": [
    {
     "name": "stdout",
     "output_type": "stream",
     "text": [
      "[1, 2, 3, 4, 2, 2, 3, 4, 3, 3, 3, 4, 4, 4, 4, 4]\n"
     ]
    }
   ],
   "source": [
    "answer = [i for i in range(1,n+1)]\n",
    "lst = [i for i in range(1,n+1)]\n",
    "for k in range(1,n):\n",
    "    for i in range(k):\n",
    "        answer = answer + [k+1]\n",
    "    answer = answer + lst[k:]\n",
    "print(answer)"
   ]
  },
  {
   "cell_type": "code",
   "execution_count": null,
   "id": "3da6da19",
   "metadata": {},
   "outputs": [],
   "source": [
    "answer = []\n",
    "for i in range(left,right+1):\n",
    "    answer.append(max(i//n,i%n)+1)"
   ]
  }
 ],
 "metadata": {
  "kernelspec": {
   "display_name": "Python 3 (ipykernel)",
   "language": "python",
   "name": "python3"
  },
  "language_info": {
   "codemirror_mode": {
    "name": "ipython",
    "version": 3
   },
   "file_extension": ".py",
   "mimetype": "text/x-python",
   "name": "python",
   "nbconvert_exporter": "python",
   "pygments_lexer": "ipython3",
   "version": "3.9.16"
  }
 },
 "nbformat": 4,
 "nbformat_minor": 5
}
