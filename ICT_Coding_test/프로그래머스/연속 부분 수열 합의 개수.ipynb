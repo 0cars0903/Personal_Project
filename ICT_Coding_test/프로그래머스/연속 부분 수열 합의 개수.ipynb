{
 "cells": [
  {
   "cell_type": "markdown",
   "id": "72c457c4",
   "metadata": {},
   "source": [
    "# 일반적인 리스트"
   ]
  },
  {
   "cell_type": "code",
   "execution_count": 1,
   "id": "c64f7da8",
   "metadata": {},
   "outputs": [],
   "source": [
    "elements = [-8,5,6,1,2,3,4]\n",
    "result = 21"
   ]
  },
  {
   "cell_type": "code",
   "execution_count": 2,
   "id": "054fcf2a",
   "metadata": {},
   "outputs": [],
   "source": [
    "answer = []\n",
    "cum = elements\n",
    "for i in range(1, len(elements)+1):\n",
    "    j = 0\n",
    "    cum += elements[i-1:i]\n",
    "    while True:\n",
    "        ans = cum[j:j+i]\n",
    "        agg = sum(ans)\n",
    "        answer.append(agg)\n",
    "        if i+j == len(cum):\n",
    "            break\n",
    "        j += 1"
   ]
  },
  {
   "cell_type": "code",
   "execution_count": 3,
   "id": "b4ca1ebe",
   "metadata": {},
   "outputs": [
    {
     "name": "stdout",
     "output_type": "stream",
     "text": [
      "21\n"
     ]
    }
   ],
   "source": [
    "print(len(set(answer)))"
   ]
  },
  {
   "cell_type": "code",
   "execution_count": 4,
   "id": "1c1350d5",
   "metadata": {},
   "outputs": [],
   "source": [
    "elements = [-8,5,6,1,2,3,4]\n",
    "result = 21"
   ]
  },
  {
   "cell_type": "code",
   "execution_count": 5,
   "id": "1feb31a6",
   "metadata": {},
   "outputs": [],
   "source": [
    "answer = []\n",
    "cum = elements * 2\n",
    "for i in range(len(elements)):\n",
    "    for k in range(len(cum)):\n",
    "        agg = sum(cum[k:k+i+1])\n",
    "        answer.append(agg)"
   ]
  },
  {
   "cell_type": "code",
   "execution_count": 6,
   "id": "4273c8ea",
   "metadata": {},
   "outputs": [
    {
     "name": "stdout",
     "output_type": "stream",
     "text": [
      "21\n"
     ]
    }
   ],
   "source": [
    "print(len(set(answer)))"
   ]
  },
  {
   "cell_type": "markdown",
   "id": "f766f456",
   "metadata": {},
   "source": [
    "# 동적 프로그램 방식"
   ]
  },
  {
   "cell_type": "code",
   "execution_count": 7,
   "id": "60dd29df",
   "metadata": {},
   "outputs": [],
   "source": [
    "elements = [-8,5,6,1,2,3,4]\n",
    "result = 21"
   ]
  },
  {
   "cell_type": "code",
   "execution_count": 8,
   "id": "c01ce228",
   "metadata": {},
   "outputs": [],
   "source": [
    "answer = elements\n",
    "cum = elements * 2\n",
    "ll = len(elements)\n",
    "for j in range(ll-1):\n",
    "    for i in range(ll):\n",
    "        agg = answer[ll*j+i] + cum[j+i+1]\n",
    "        answer.append(agg)"
   ]
  },
  {
   "cell_type": "code",
   "execution_count": 9,
   "id": "0ee63354",
   "metadata": {},
   "outputs": [
    {
     "name": "stdout",
     "output_type": "stream",
     "text": [
      "24\n"
     ]
    }
   ],
   "source": [
    "print(len(set(answer)))"
   ]
  },
  {
   "cell_type": "code",
   "execution_count": null,
   "id": "8e06bb1e",
   "metadata": {},
   "outputs": [],
   "source": []
  },
  {
   "cell_type": "code",
   "execution_count": null,
   "id": "ba7d9596",
   "metadata": {},
   "outputs": [],
   "source": []
  }
 ],
 "metadata": {
  "kernelspec": {
   "display_name": "Python 3 (ipykernel)",
   "language": "python",
   "name": "python3"
  },
  "language_info": {
   "codemirror_mode": {
    "name": "ipython",
    "version": 3
   },
   "file_extension": ".py",
   "mimetype": "text/x-python",
   "name": "python",
   "nbconvert_exporter": "python",
   "pygments_lexer": "ipython3",
   "version": "3.8.16"
  }
 },
 "nbformat": 4,
 "nbformat_minor": 5
}
