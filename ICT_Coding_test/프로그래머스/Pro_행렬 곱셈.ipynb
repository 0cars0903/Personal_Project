{
 "cells": [
  {
   "cell_type": "code",
   "execution_count": 106,
   "id": "712845f9",
   "metadata": {},
   "outputs": [],
   "source": [
    "arr1 = [[2, 3, 2], [4, 2, 4], [3, 1, 4]]\n",
    "arr2 = [[5, 4, 3], [2, 4, 1], [3, 1, 1]]\n",
    "defalut = [[22, 22, 11], [36, 28, 18], [29, 20, 14]]"
   ]
  },
  {
   "cell_type": "code",
   "execution_count": 107,
   "id": "553ab44e",
   "metadata": {},
   "outputs": [],
   "source": [
    "answer = []\n",
    "for y1 in range(len(arr1)):\n",
    "    a=[]\n",
    "    for x2 in range(len(arr2[0])):\n",
    "        n = 0\n",
    "        for x1 in range(len(arr1[0])):\n",
    "            n += arr1[y1][x1] * arr2[x1][x2]\n",
    "        a.append(n)\n",
    "    answer.append(a)"
   ]
  },
  {
   "cell_type": "code",
   "execution_count": 108,
   "id": "20b1ad8d",
   "metadata": {},
   "outputs": [
    {
     "data": {
      "text/plain": [
       "[[22, 22, 11], [36, 28, 18], [29, 20, 14]]"
      ]
     },
     "execution_count": 108,
     "metadata": {},
     "output_type": "execute_result"
    }
   ],
   "source": [
    "answer"
   ]
  },
  {
   "cell_type": "code",
   "execution_count": null,
   "id": "dd530c39",
   "metadata": {},
   "outputs": [],
   "source": []
  }
 ],
 "metadata": {
  "kernelspec": {
   "display_name": "Python 3 (ipykernel)",
   "language": "python",
   "name": "python3"
  },
  "language_info": {
   "codemirror_mode": {
    "name": "ipython",
    "version": 3
   },
   "file_extension": ".py",
   "mimetype": "text/x-python",
   "name": "python",
   "nbconvert_exporter": "python",
   "pygments_lexer": "ipython3",
   "version": "3.8.16"
  }
 },
 "nbformat": 4,
 "nbformat_minor": 5
}
