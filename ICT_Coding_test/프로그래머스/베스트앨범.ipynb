{
 "cells": [
  {
   "cell_type": "code",
   "execution_count": 51,
   "id": "4d1aa695",
   "metadata": {},
   "outputs": [],
   "source": [
    "genres = [\"classic\", \"pop\", \"classic\", \"classic\", \"pop\"]\n",
    "plays = [500, 600, 150, 800, 2500]\n",
    "result = [4, 1, 3, 0]"
   ]
  },
  {
   "cell_type": "code",
   "execution_count": 52,
   "id": "8034ecbe",
   "metadata": {},
   "outputs": [],
   "source": [
    "answer = []\n",
    "agg = {}\n",
    "dic = {}\n",
    "for i in range(len(plays)):\n",
    "    if genres[i] not in dic.keys():\n",
    "        agg[genres[i]] = plays[i]\n",
    "        dic[genres[i]] = []\n",
    "        dic[genres[i]].append([i, plays[i]])\n",
    "    else:\n",
    "        agg[genres[i]] += plays[i]\n",
    "        dic[genres[i]].append([i, plays[i]])\n",
    "A = sorted(agg.items(), key=lambda x : x[1], reverse=True)\n",
    "for zan in A:\n",
    "    lst = sorted(dic[zan[0]], key=lambda x : x[1], reverse=True)\n",
    "    for j in range(len(lst)):\n",
    "        answer.append(lst[j][0])\n",
    "        if j >= 1:\n",
    "            break"
   ]
  },
  {
   "cell_type": "code",
   "execution_count": 53,
   "id": "4a5f7d20",
   "metadata": {},
   "outputs": [
    {
     "data": {
      "text/plain": [
       "[4, 1, 3, 0]"
      ]
     },
     "execution_count": 53,
     "metadata": {},
     "output_type": "execute_result"
    }
   ],
   "source": [
    "answer"
   ]
  },
  {
   "cell_type": "code",
   "execution_count": null,
   "id": "0a0c55fe",
   "metadata": {},
   "outputs": [],
   "source": []
  }
 ],
 "metadata": {
  "kernelspec": {
   "display_name": "Python 3 (ipykernel)",
   "language": "python",
   "name": "python3"
  },
  "language_info": {
   "codemirror_mode": {
    "name": "ipython",
    "version": 3
   },
   "file_extension": ".py",
   "mimetype": "text/x-python",
   "name": "python",
   "nbconvert_exporter": "python",
   "pygments_lexer": "ipython3",
   "version": "3.8.16"
  }
 },
 "nbformat": 4,
 "nbformat_minor": 5
}
