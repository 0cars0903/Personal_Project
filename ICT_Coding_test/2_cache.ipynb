{
 "cells": [
  {
   "cell_type": "code",
   "execution_count": 1,
   "id": "9dcdf2a3",
   "metadata": {},
   "outputs": [],
   "source": [
    "arr1 = [[1, 4], [3, 2], [4, 1]]\n",
    "arr2 = [[3, 3], [3, 3]]\n",
    "ans = [[15, 15], [15, 15], [15, 15]]"
   ]
  },
  {
   "cell_type": "code",
   "execution_count": 1,
   "id": "99f0f067",
   "metadata": {},
   "outputs": [],
   "source": [
    "stack = [7,3,9]\n",
    "ans = [2,1]"
   ]
  },
  {
   "cell_type": "code",
   "execution_count": 2,
   "id": "b0c3b5d0",
   "metadata": {},
   "outputs": [],
   "source": [
    "from collections import deque\n",
    "\n",
    "time = deque(stack)\n",
    "cnt = 0\n",
    "a = time[0]\n",
    "while time:\n",
    "    b = time[0]\n",
    "    if b <= a:\n",
    "        cnt += 1\n",
    "        time.popleft()\n",
    "    else:\n",
    "        "
   ]
  },
  {
   "cell_type": "code",
   "execution_count": 3,
   "id": "c7315420",
   "metadata": {},
   "outputs": [
    {
     "name": "stdout",
     "output_type": "stream",
     "text": [
      "3\n"
     ]
    }
   ],
   "source": [
    "print(cnt)"
   ]
  },
  {
   "cell_type": "code",
   "execution_count": null,
   "id": "91607f59",
   "metadata": {},
   "outputs": [],
   "source": []
  }
 ],
 "metadata": {
  "kernelspec": {
   "display_name": "Python 3 (ipykernel)",
   "language": "python",
   "name": "python3"
  },
  "language_info": {
   "codemirror_mode": {
    "name": "ipython",
    "version": 3
   },
   "file_extension": ".py",
   "mimetype": "text/x-python",
   "name": "python",
   "nbconvert_exporter": "python",
   "pygments_lexer": "ipython3",
   "version": "3.9.16"
  }
 },
 "nbformat": 4,
 "nbformat_minor": 5
}
