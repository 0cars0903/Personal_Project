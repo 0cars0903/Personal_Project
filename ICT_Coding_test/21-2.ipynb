{
 "cells": [
  {
   "cell_type": "code",
   "execution_count": 5,
   "id": "f0576cfa",
   "metadata": {},
   "outputs": [
    {
     "name": "stdout",
     "output_type": "stream",
     "text": [
      "-1\n"
     ]
    }
   ],
   "source": [
    "lst = [9,10,9,10]\n",
    "\n",
    "stack = []\n",
    "cnt = 0\n",
    "for num in lst:\n",
    "    if num not in stack:\n",
    "        stack.append(num)\n",
    "    else:\n",
    "        stack.append(num+1)\n",
    "        cnt += 1\n",
    "# -1인 경우 찾기\n",
    "var = list(set(stack))\n",
    "if var != stack:\n",
    "    cnt = -1\n",
    "print(cnt)"
   ]
  },
  {
   "cell_type": "code",
   "execution_count": 7,
   "id": "e419e2b3",
   "metadata": {},
   "outputs": [
    {
     "name": "stdout",
     "output_type": "stream",
     "text": [
      "3\n"
     ]
    }
   ],
   "source": [
    "dust = [[78, 20], [42, 33], [5, 1] ,[99, 55], [56, 10], [5, 5]]\n",
    "\n",
    "stack = []\n",
    "cnt = 0\n",
    "# 기준에 따라 분류\n",
    "for lst in dust:\n",
    "    # 미세먼지(0 1 2 3)\n",
    "    if lst[0] >=0 and lst[0]<=30:\n",
    "        a = 0\n",
    "    elif lst[0] >=31 and lst[0]<=55:\n",
    "        a = 1\n",
    "    elif lst[0] >=56 and lst[0]<=90:\n",
    "        a = 2\n",
    "    else: \n",
    "        a = 3\n",
    "    # 초미세먼지(0 1 2 3)\n",
    "    if lst[1] >=0 and lst[1]<=15:\n",
    "        b = 0\n",
    "    elif lst[1] >=16 and lst[1]<=25:\n",
    "        b = 1\n",
    "    elif lst[1] >=26 and lst[1]<=40:\n",
    "        b = 2\n",
    "    else: \n",
    "        b = 3\n",
    "    stack.append([a,b])\n",
    "\n",
    "day = 0\n",
    "while day < len(stack):\n",
    "    if (stack[day][0] == 3) and (stack[day][1] == 3):\n",
    "        cnt += 1\n",
    "        day += 1\n",
    "    elif (stack[day][0] >= 2) or (stack[day][1] >=2):\n",
    "        cnt += 1\n",
    "        day += 3\n",
    "print(cnt)\n"
   ]
  },
  {
   "cell_type": "code",
   "execution_count": null,
   "id": "aa37a9c2",
   "metadata": {},
   "outputs": [],
   "source": [
    "#003"
   ]
  }
 ],
 "metadata": {
  "kernelspec": {
   "display_name": "Python 3 (ipykernel)",
   "language": "python",
   "name": "python3"
  },
  "language_info": {
   "codemirror_mode": {
    "name": "ipython",
    "version": 3
   },
   "file_extension": ".py",
   "mimetype": "text/x-python",
   "name": "python",
   "nbconvert_exporter": "python",
   "pygments_lexer": "ipython3",
   "version": "3.8.16"
  }
 },
 "nbformat": 4,
 "nbformat_minor": 5
}
