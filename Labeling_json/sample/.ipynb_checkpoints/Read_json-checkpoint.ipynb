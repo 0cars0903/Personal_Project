{
 "cells": [
  {
   "cell_type": "code",
   "execution_count": 1,
   "id": "8bcd7cb8",
   "metadata": {},
   "outputs": [],
   "source": [
    "import json\n",
    "\n",
    "import numpy as np\n",
    "import cv2\n",
    "%matplotlib inline\n",
    "import matplotlib.pyplot as plt"
   ]
  },
  {
   "cell_type": "markdown",
   "id": "0be3e7bc",
   "metadata": {},
   "source": [
    "## WareHouse"
   ]
  },
  {
   "cell_type": "code",
   "execution_count": 2,
   "id": "f086e7d4",
   "metadata": {},
   "outputs": [],
   "source": [
    "# Box 형태 라벨링\n",
    "def box(class_id, coord, color):\n",
    "    x, y, w, h = coord\n",
    "    cv2.putText(cvt_img, class_id, (int(x+0.5*w), int(y-15)+50), cv2.FONT_HERSHEY_SIMPLEX,1.0,color,2)\n",
    "    cv2.rectangle(cvt_img, (int(x), int(y)), (int(x+w), int(y+h)), color, 5) #(x,y) 좌표\n",
    "    \n",
    "# 다각형 라벨링\n",
    "def polylabel(poly):\n",
    "    x, y = 0, 0\n",
    "    l = len(poly)\n",
    "    for lst in poly:\n",
    "        x += lst[0]\n",
    "        y += lst[1]\n",
    "    x = x / l\n",
    "    y = y / l\n",
    "    return int(x), int(y)\n",
    "\n",
    "def polygon(class_id, coord, color):\n",
    "    points = np.array(coord, np.int32)\n",
    "    a = polylabel(coord)\n",
    "    cv2.putText(cvt_img, class_id, (a[0], a[1]), cv2.FONT_HERSHEY_SIMPLEX,1.0,color,2)\n",
    "    cv2.polylines(cvt_img, [points], True, color, 3) #(x,y) 좌표\n",
    "\n",
    "# 색상 출력\n",
    "import random\n",
    "\n",
    "def rand_color():\n",
    "    col = [i for i in range(0, 256)]\n",
    "    return random.choice(col)\n",
    "\n",
    "# Data Load\n",
    "def load_data(DIR_img, DIR_label, name):\n",
    "    # 이미지 불러오기\n",
    "    img_name = DIR_img + name + \".jpg\"\n",
    "    img = cv2.imread(img_name)\n",
    "    cvt_img = cv2.cvtColor(img, cv2.COLOR_BGR2RGB)\n",
    "\n",
    "    # annotation 불러오기\n",
    "    json_name = DIR_label + name + '.json'\n",
    "    a_json = open(json_name, encoding = 'utf-8')\n",
    "    a_dict = json.load(a_json)\n",
    "    label = a_dict[\"Learning data info.\"][\"annotation\"]\n",
    "    return cvt_img, label\n",
    "\n",
    "# 라벨링 프로그램\n",
    "def labeling(label):\n",
    "    # label 형태에 따라 실행 \n",
    "    for dic in label:\n",
    "        class_id = dic['class_id']\n",
    "        type_label = dic['type']\n",
    "        coord = dic['coord']\n",
    "        if type_label == 'box':\n",
    "            color = (rand_color(),rand_color(),rand_color())\n",
    "            box(class_id, coord, color)\n",
    "        else:\n",
    "            color = (rand_color(),rand_color(),rand_color())\n",
    "            polygon(class_id, coord, color)\n",
    "            \n",
    "# 출력 및 저장\n",
    "def print_img(DIR_save, cvt_img):\n",
    "#     plt.imshow(cvt_img)\n",
    "    cvt_img = cv2.cvtColor(cvt_img, cv2.COLOR_RGB2BGR)\n",
    "    cv2.imwrite(DIR_save + name+'_label'+'.jpg', cvt_img)"
   ]
  },
  {
   "cell_type": "code",
   "execution_count": 3,
   "id": "bdc33601",
   "metadata": {},
   "outputs": [],
   "source": [
    "# json 파일 리스트가 담겨져 있는 txt 파일 만들기(label 폴더 내에서 cmd 실행)\n",
    "# dir /b /a-d > 파일명추출.txt"
   ]
  },
  {
   "cell_type": "markdown",
   "id": "7ab42371",
   "metadata": {},
   "source": [
    "### Labeling"
   ]
  },
  {
   "cell_type": "code",
   "execution_count": 4,
   "id": "077f6adb",
   "metadata": {},
   "outputs": [
    {
     "ename": "error",
     "evalue": "OpenCV(4.7.0) D:\\a\\opencv-python\\opencv-python\\opencv\\modules\\imgproc\\src\\color.cpp:182: error: (-215:Assertion failed) !_src.empty() in function 'cv::cvtColor'\n",
     "output_type": "error",
     "traceback": [
      "\u001b[1;31m---------------------------------------------------------------------------\u001b[0m",
      "\u001b[1;31merror\u001b[0m                                     Traceback (most recent call last)",
      "Cell \u001b[1;32mIn[4], line 12\u001b[0m\n\u001b[0;32m     10\u001b[0m a_txt\u001b[38;5;241m.\u001b[39mclose\n\u001b[0;32m     11\u001b[0m \u001b[38;5;28;01mfor\u001b[39;00m name \u001b[38;5;129;01min\u001b[39;00m name_lst:\n\u001b[1;32m---> 12\u001b[0m     cvt_img, label \u001b[38;5;241m=\u001b[39m \u001b[43mload_data\u001b[49m\u001b[43m(\u001b[49m\u001b[43mDIR_img\u001b[49m\u001b[43m,\u001b[49m\u001b[43m \u001b[49m\u001b[43mDIR_label\u001b[49m\u001b[43m,\u001b[49m\u001b[43m \u001b[49m\u001b[43mname\u001b[49m\u001b[43m)\u001b[49m\n\u001b[0;32m     13\u001b[0m     labeling(label)\n\u001b[0;32m     14\u001b[0m     print_img(DIR_save, cvt_img)\n",
      "Cell \u001b[1;32mIn[2], line 36\u001b[0m, in \u001b[0;36mload_data\u001b[1;34m(DIR_img, DIR_label, name)\u001b[0m\n\u001b[0;32m     34\u001b[0m img_name \u001b[38;5;241m=\u001b[39m DIR_img \u001b[38;5;241m+\u001b[39m name \u001b[38;5;241m+\u001b[39m \u001b[38;5;124m\"\u001b[39m\u001b[38;5;124m.jpg\u001b[39m\u001b[38;5;124m\"\u001b[39m\n\u001b[0;32m     35\u001b[0m img \u001b[38;5;241m=\u001b[39m cv2\u001b[38;5;241m.\u001b[39mimread(img_name)\n\u001b[1;32m---> 36\u001b[0m cvt_img \u001b[38;5;241m=\u001b[39m \u001b[43mcv2\u001b[49m\u001b[38;5;241;43m.\u001b[39;49m\u001b[43mcvtColor\u001b[49m\u001b[43m(\u001b[49m\u001b[43mimg\u001b[49m\u001b[43m,\u001b[49m\u001b[43m \u001b[49m\u001b[43mcv2\u001b[49m\u001b[38;5;241;43m.\u001b[39;49m\u001b[43mCOLOR_BGR2RGB\u001b[49m\u001b[43m)\u001b[49m\n\u001b[0;32m     38\u001b[0m \u001b[38;5;66;03m# annotation 불러오기\u001b[39;00m\n\u001b[0;32m     39\u001b[0m json_name \u001b[38;5;241m=\u001b[39m DIR_label \u001b[38;5;241m+\u001b[39m name \u001b[38;5;241m+\u001b[39m \u001b[38;5;124m'\u001b[39m\u001b[38;5;124m.json\u001b[39m\u001b[38;5;124m'\u001b[39m\n",
      "\u001b[1;31merror\u001b[0m: OpenCV(4.7.0) D:\\a\\opencv-python\\opencv-python\\opencv\\modules\\imgproc\\src\\color.cpp:182: error: (-215:Assertion failed) !_src.empty() in function 'cv::cvtColor'\n"
     ]
    }
   ],
   "source": [
    "DIR_img = \"D:/Open Datasets/AiHub/WareHouse/Dataset/01.Data/2.Validation/Original/VS_08/UA/\"\n",
    "DIR_label = \"D:/Open Datasets/AiHub/WareHouse/Dataset/01.Data/2.Validation/Labeling/VL_08/UA/\"\n",
    "DIR_save = \"D:/Open Datasets/AiHub/WareHouse/VL_08/UA/\"\n",
    "\n",
    "a_txt = open(DIR_label + 'lst.txt', 'r')\n",
    "\n",
    "name_lst = []\n",
    "for line in a_txt:\n",
    "    name_lst.append(line.strip()[0:-5])\n",
    "a_txt.close\n",
    "for name in name_lst:\n",
    "    cvt_img, label = load_data(DIR_img, DIR_label, name)\n",
    "    labeling(label)\n",
    "    print_img(DIR_save, cvt_img)\n",
    "##################################################################################################\n",
    "DIR_img = \"D:/Open Datasets/AiHub/WareHouse/Dataset/01.Data/2.Validation/Original/VS_08/UC/\"\n",
    "DIR_label = \"D:/Open Datasets/AiHub/WareHouse/Dataset/01.Data/2.Validation/Labeling/VL_08/UC/\"\n",
    "DIR_save = \"D:/Open Datasets/AiHub/WareHouse/VL_08/UC/\"\n",
    "\n",
    "a_txt = open(DIR_label + 'lst.txt', 'r')\n",
    "\n",
    "name_lst = []\n",
    "for line in a_txt:\n",
    "    name_lst.append(line.strip()[0:-5])\n",
    "a_txt.close\n",
    "for name in name_lst:\n",
    "    cvt_img, label = load_data(DIR_img, DIR_label, name)\n",
    "    labeling(label)\n",
    "    print_img(DIR_save, cvt_img)"
   ]
  },
  {
   "cell_type": "markdown",
   "id": "fddc7ffa",
   "metadata": {},
   "source": [
    "## Fire"
   ]
  },
  {
   "cell_type": "code",
   "execution_count": null,
   "id": "86e61076",
   "metadata": {},
   "outputs": [],
   "source": [
    "# 다각형 라벨링\n",
    "def polygon_fire(class_id, coord, color):\n",
    "    points = np.array(coord, np.int32)\n",
    "    a = polylabel(coord)\n",
    "    cv2.putText(cvt_img, class_id, (a[0], a[1]), cv2.FONT_HERSHEY_SIMPLEX,10.0,color,5)\n",
    "    cv2.polylines(cvt_img, [points], True, color, 3) #(x,y) 좌표\n",
    "\n",
    "# Data Load\n",
    "def load_data_fire(DIR_img, DIR_label, name):\n",
    "    # 이미지 불러오기\n",
    "    img_name = DIR_img + name + \".jpg\"\n",
    "    img = cv2.imread(img_name)\n",
    "    cvt_img = cv2.cvtColor(img, cv2.COLOR_BGR2RGB)\n",
    "\n",
    "    # annotation 불러오기\n",
    "    json_name = DIR_label + name + '.json'\n",
    "    a_json = open(json_name, encoding = 'utf-8-sig')\n",
    "    a_dict = json.load(a_json)\n",
    "    label = a_dict['annotations'][0]\n",
    "    return cvt_img, label\n",
    "\n",
    "# 라벨링 프로그램\n",
    "def labeling_fire(label):\n",
    "    # label 형태에 따라 실행 \n",
    "    for dic in label:\n",
    "        class_id = label[\"data ID\"]\n",
    "        if 'polygon' in label.keys():\n",
    "            coord = label['polygon']\n",
    "            color = (rand_color(),rand_color(),rand_color())\n",
    "            polygon(class_id, coord, color)\n",
    "        if 'box' in label.keys():\n",
    "            coord = label['box']\n",
    "            color = (rand_color(),rand_color(),rand_color())\n",
    "            box(class_id, coord, color)"
   ]
  },
  {
   "cell_type": "code",
   "execution_count": null,
   "id": "a23a3fc4",
   "metadata": {},
   "outputs": [],
   "source": [
    "name = \"S3-N1215MF00657\"\n",
    "cvt_img, label = load_data_fire(DIR_img, DIR_label, name)\n",
    "labeling_fire(label)\n",
    "print_img(cvt_img)"
   ]
  },
  {
   "cell_type": "code",
   "execution_count": null,
   "id": "994c03e8",
   "metadata": {},
   "outputs": [],
   "source": [
    "name = \"S3-N0801MN04479\"\n",
    "cvt_img, label = load_data_fire(DIR_img, DIR_label, name)\n",
    "labeling_fire(label)\n",
    "print_img(cvt_img)"
   ]
  },
  {
   "cell_type": "code",
   "execution_count": null,
   "id": "af1b8075",
   "metadata": {},
   "outputs": [],
   "source": [
    "name = \"S3-N0802MN01171\"\n",
    "cvt_img, label = load_data_fire(DIR_img, DIR_label, name)\n",
    "labeling_fire(label)\n",
    "print_img(cvt_img)"
   ]
  },
  {
   "cell_type": "code",
   "execution_count": null,
   "id": "fff0b5a6",
   "metadata": {},
   "outputs": [],
   "source": [
    "name = \"S3-N1458MF01375\"\n",
    "cvt_img, label = load_data_fire(DIR_img, DIR_label, name)\n",
    "labeling_fire(label)\n",
    "print_img(cvt_img)"
   ]
  },
  {
   "cell_type": "code",
   "execution_count": null,
   "id": "c880f547",
   "metadata": {},
   "outputs": [],
   "source": []
  }
 ],
 "metadata": {
  "kernelspec": {
   "display_name": "yolov5",
   "language": "python",
   "name": "yolov5"
  },
  "language_info": {
   "codemirror_mode": {
    "name": "ipython",
    "version": 3
   },
   "file_extension": ".py",
   "mimetype": "text/x-python",
   "name": "python",
   "nbconvert_exporter": "python",
   "pygments_lexer": "ipython3",
   "version": "3.8.16"
  }
 },
 "nbformat": 4,
 "nbformat_minor": 5
}
