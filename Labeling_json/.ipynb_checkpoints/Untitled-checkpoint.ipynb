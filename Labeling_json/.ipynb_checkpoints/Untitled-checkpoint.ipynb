{
 "cells": [
  {
   "cell_type": "code",
   "execution_count": 2,
   "id": "8990eb69",
   "metadata": {},
   "outputs": [
    {
     "name": "stdout",
     "output_type": "stream",
     "text": [
      "Collecting labelme\n",
      "  Using cached labelme-5.1.1-py3-none-any.whl\n",
      "Collecting natsort>=7.1.0\n",
      "  Using cached natsort-8.2.0-py3-none-any.whl (37 kB)\n",
      "Collecting termcolor\n",
      "  Using cached termcolor-2.2.0-py3-none-any.whl (6.6 kB)\n",
      "Requirement already satisfied: matplotlib in c:\\users\\piai\\anaconda3\\envs\\yolov5\\lib\\site-packages (from labelme) (3.6.3)\n",
      "Requirement already satisfied: Pillow>=2.8 in c:\\users\\piai\\anaconda3\\envs\\yolov5\\lib\\site-packages (from labelme) (9.4.0)\n",
      "Collecting imgviz>=0.11\n",
      "  Using cached imgviz-1.6.2-py3-none-any.whl\n",
      "Requirement already satisfied: PyQt5!=5.15.3,!=5.15.4 in c:\\users\\piai\\anaconda3\\envs\\yolov5\\lib\\site-packages (from labelme) (5.15.7)\n",
      "Requirement already satisfied: numpy in c:\\users\\piai\\anaconda3\\envs\\yolov5\\lib\\site-packages (from labelme) (1.24.1)\n",
      "Requirement already satisfied: PyYAML in c:\\users\\piai\\anaconda3\\envs\\yolov5\\lib\\site-packages (from labelme) (6.0)\n",
      "Requirement already satisfied: colorama in c:\\users\\piai\\anaconda3\\envs\\yolov5\\lib\\site-packages (from labelme) (0.4.6)\n",
      "Requirement already satisfied: qtpy!=1.11.2 in c:\\users\\piai\\anaconda3\\envs\\yolov5\\lib\\site-packages (from labelme) (2.2.0)\n",
      "Requirement already satisfied: PyQt5-sip<13,>=12.11 in c:\\users\\piai\\anaconda3\\envs\\yolov5\\lib\\site-packages (from PyQt5!=5.15.3,!=5.15.4->labelme) (12.11.0)\n",
      "Requirement already satisfied: packaging in c:\\users\\piai\\anaconda3\\envs\\yolov5\\lib\\site-packages (from qtpy!=1.11.2->labelme) (22.0)\n",
      "Requirement already satisfied: pyparsing>=2.2.1 in c:\\users\\piai\\anaconda3\\envs\\yolov5\\lib\\site-packages (from matplotlib->labelme) (3.0.9)\n",
      "Requirement already satisfied: python-dateutil>=2.7 in c:\\users\\piai\\anaconda3\\envs\\yolov5\\lib\\site-packages (from matplotlib->labelme) (2.8.2)\n",
      "Requirement already satisfied: kiwisolver>=1.0.1 in c:\\users\\piai\\anaconda3\\envs\\yolov5\\lib\\site-packages (from matplotlib->labelme) (1.4.4)\n",
      "Requirement already satisfied: cycler>=0.10 in c:\\users\\piai\\anaconda3\\envs\\yolov5\\lib\\site-packages (from matplotlib->labelme) (0.11.0)\n",
      "Requirement already satisfied: contourpy>=1.0.1 in c:\\users\\piai\\anaconda3\\envs\\yolov5\\lib\\site-packages (from matplotlib->labelme) (1.0.7)\n",
      "Requirement already satisfied: fonttools>=4.22.0 in c:\\users\\piai\\anaconda3\\envs\\yolov5\\lib\\site-packages (from matplotlib->labelme) (4.38.0)\n",
      "Requirement already satisfied: six>=1.5 in c:\\users\\piai\\anaconda3\\envs\\yolov5\\lib\\site-packages (from python-dateutil>=2.7->matplotlib->labelme) (1.16.0)\n",
      "Installing collected packages: termcolor, natsort, imgviz, labelme\n",
      "Successfully installed imgviz-1.6.2 labelme-5.1.1 natsort-8.2.0 termcolor-2.2.0\n"
     ]
    }
   ],
   "source": [
    "!pip install labelme"
   ]
  },
  {
   "cell_type": "code",
   "execution_count": 3,
   "id": "af1508b6",
   "metadata": {},
   "outputs": [],
   "source": [
    "import labelme\n",
    "\n",
    "import os\n",
    "import glob"
   ]
  },
  {
   "cell_type": "code",
   "execution_count": 6,
   "id": "3d2745fd",
   "metadata": {},
   "outputs": [],
   "source": [
    "def labelme2images(input_dir, output_dir, force=False, save_img=False, new_size=False):\n",
    "    \"\"\"\n",
    "    new_size_width, new_size_height = new_size\n",
    "    \"\"\"\n",
    "    if save_img:\n",
    "        _makedirs(path=osp.join(output_dir, \"images\"), force=force)\n",
    "        if new_size:\n",
    "            new_size_width, new_size_height = new_size\n",
    "    \n",
    "    print(\"Generating dataset\")\n",
    "    \n",
    "    filenames = glob.glob(osp.join(input_dir, \"*.json\"))\n",
    "        \n",
    "    for filename in filenames:\n",
    "        # base name\n",
    "        base = osp.splitext(osp.basename(filename))[0]\n",
    "\n",
    "        label_file = labelme.LabelFile(filename=filename)\n",
    "\n",
    "        img = labelme.utils.img_data_to_arr(label_file.imageData)\n",
    "        h, w = img.shape[0], img.shape[1]\n",
    "\n",
    "        if save_img:\n",
    "            if new_size:\n",
    "                img_pil = Image.fromarray(img).resize((new_size_height, new_size_width))\n",
    "            else:\n",
    "                img_pil = Image.fromarray(img)\n",
    "                \n",
    "            img_pil.save(osp.join(output_dir, \"images\", base + \".jpg\"))"
   ]
  },
  {
   "cell_type": "code",
   "execution_count": 7,
   "id": "8f79a240",
   "metadata": {},
   "outputs": [
    {
     "ename": "SyntaxError",
     "evalue": "(unicode error) 'unicodeescape' codec can't decode bytes in position 2-3: truncated \\UXXXXXXXX escape (1408548381.py, line 1)",
     "output_type": "error",
     "traceback": [
      "\u001b[1;36m  Cell \u001b[1;32mIn[7], line 1\u001b[1;36m\u001b[0m\n\u001b[1;33m    labelme2images(\"C:\\Users\\piai\\Desktop\\work\", \"C:\\Users\\piai\\Desktop\\work\")\u001b[0m\n\u001b[1;37m                   ^\u001b[0m\n\u001b[1;31mSyntaxError\u001b[0m\u001b[1;31m:\u001b[0m (unicode error) 'unicodeescape' codec can't decode bytes in position 2-3: truncated \\UXXXXXXXX escape\n"
     ]
    }
   ],
   "source": [
    "labelme2images(\"C:\\Users\\piai\\Desktop\\work\", \"C:\\Users\\piai\\Desktop\\work\")"
   ]
  },
  {
   "cell_type": "code",
   "execution_count": 8,
   "id": "4c548159",
   "metadata": {},
   "outputs": [],
   "source": [
    "import os\n",
    "\n",
    "def labelme_json_to_dataset(json_path):\n",
    "    os.system(\"labelme_json_to_dataset \"+json_path+\" -o \"+json_path.replace(\".\",\"_\"))"
   ]
  },
  {
   "cell_type": "code",
   "execution_count": 11,
   "id": "488f03aa",
   "metadata": {},
   "outputs": [
    {
     "ename": "SyntaxError",
     "evalue": "(unicode error) 'unicodeescape' codec can't decode bytes in position 0-1: truncated \\UXXXXXXXX escape (2592649384.py, line 1)",
     "output_type": "error",
     "traceback": [
      "\u001b[1;36m  Cell \u001b[1;32mIn[11], line 1\u001b[1;36m\u001b[0m\n\u001b[1;33m    labelme_json_to_dataset(\"\\Users\\piai\\Desktop\\work\")\u001b[0m\n\u001b[1;37m                            ^\u001b[0m\n\u001b[1;31mSyntaxError\u001b[0m\u001b[1;31m:\u001b[0m (unicode error) 'unicodeescape' codec can't decode bytes in position 0-1: truncated \\UXXXXXXXX escape\n"
     ]
    }
   ],
   "source": [
    "labelme_json_to_dataset(\"\\Users\\piai\\Desktop\\work\")"
   ]
  },
  {
   "cell_type": "code",
   "execution_count": 12,
   "id": "2d20f573",
   "metadata": {},
   "outputs": [],
   "source": [
    "import math\n",
    "\n",
    "import numpy as np\n",
    "import PIL.Image\n",
    "import PIL.ImageDraw\n",
    "\n",
    "from labelme.logger import logger\n",
    "\n",
    "\n",
    "def polygons_to_mask(img_shape, polygons, shape_type=None):\n",
    "    logger.warning(\n",
    "        \"The 'polygons_to_mask' function is deprecated, \"\n",
    "        \"use 'shape_to_mask' instead.\"\n",
    "    )\n",
    "    return shape_to_mask(img_shape, points=polygons, shape_type=shape_type)\n",
    "\n",
    "\n",
    "def shape_to_mask(img_shape, points, shape_type=None,\n",
    "                  line_width=10, point_size=5):\n",
    "    mask = np.zeros(img_shape[:2], dtype=np.uint8)\n",
    "    mask = PIL.Image.fromarray(mask)\n",
    "    draw = PIL.ImageDraw.Draw(mask)\n",
    "    xy = [tuple(point) for point in points]\n",
    "    if shape_type == 'circle':\n",
    "        assert len(xy) == 2, 'Shape of shape_type=circle must have 2 points'\n",
    "        (cx, cy), (px, py) = xy\n",
    "        d = math.sqrt((cx - px) ** 2 + (cy - py) ** 2)\n",
    "        draw.ellipse([cx - d, cy - d, cx + d, cy + d], outline=1, fill=1)\n",
    "    elif shape_type == 'rectangle':\n",
    "        assert len(xy) == 2, 'Shape of shape_type=rectangle must have 2 points'\n",
    "        draw.rectangle(xy, outline=1, fill=1)\n",
    "    elif shape_type == 'line':\n",
    "        assert len(xy) == 2, 'Shape of shape_type=line must have 2 points'\n",
    "        draw.line(xy=xy, fill=1, width=line_width)\n",
    "    elif shape_type == 'linestrip':\n",
    "        draw.line(xy=xy, fill=1, width=line_width)\n",
    "    elif shape_type == 'point':\n",
    "        assert len(xy) == 1, 'Shape of shape_type=point must have 1 points'\n",
    "        cx, cy = xy[0]\n",
    "        r = point_size\n",
    "        draw.ellipse([cx - r, cy - r, cx + r, cy + r], outline=1, fill=1)\n",
    "    else:\n",
    "        assert len(xy) > 2, 'Polygon must have points more than 2'\n",
    "        draw.polygon(xy=xy, outline=1, fill=1)\n",
    "    mask = np.array(mask, dtype=bool)\n",
    "    return mask\n",
    "\n",
    "\n",
    "def shapes_to_label(img_shape, shapes, label_name_to_value, type='class'):\n",
    "    assert type in ['class', 'instance']\n",
    "\n",
    "    cls = np.zeros(img_shape[:2], dtype=np.int32)\n",
    "    if type == 'instance':\n",
    "        ins = np.zeros(img_shape[:2], dtype=np.int32)\n",
    "        instance_names = ['_background_']\n",
    "    for shape in shapes:\n",
    "        points = shape['points']\n",
    "        label = shape['label']\n",
    "        shape_type = shape.get('shape_type', None)\n",
    "        if type == 'class':\n",
    "            cls_name = label\n",
    "        elif type == 'instance':\n",
    "            cls_name = label.split('-')[0]\n",
    "            if label not in instance_names:\n",
    "                instance_names.append(label)\n",
    "            ins_id = instance_names.index(label)\n",
    "        cls_id = label_name_to_value[cls_name]\n",
    "        mask = shape_to_mask(img_shape[:2], points, shape_type)\n",
    "        cls[mask] = cls_id\n",
    "        if type == 'instance':\n",
    "            ins[mask] = ins_id\n",
    "\n",
    "    if type == 'instance':\n",
    "        return cls, ins\n",
    "    return cls\n",
    "\n",
    "\n",
    "def labelme_shapes_to_label(img_shape, shapes):\n",
    "    logger.warn('labelme_shapes_to_label is deprecated, so please use '\n",
    "                'shapes_to_label.')\n",
    "\n",
    "    label_name_to_value = {'_background_': 0}\n",
    "    for shape in shapes:\n",
    "        label_name = shape['label']\n",
    "        if label_name in label_name_to_value:\n",
    "            label_value = label_name_to_value[label_name]\n",
    "        else:\n",
    "            label_value = len(label_name_to_value)\n",
    "            label_name_to_value[label_name] = label_value\n",
    "\n",
    "    lbl = shapes_to_label(img_shape, shapes, label_name_to_value)\n",
    "    return lbl, label_name_to_value\n",
    "\n",
    "\n",
    "def masks_to_bboxes(masks):\n",
    "    if masks.ndim != 3:\n",
    "        raise ValueError(\n",
    "            'masks.ndim must be 3, but it is {}'\n",
    "            .format(masks.ndim)\n",
    "        )\n",
    "    if masks.dtype != bool:\n",
    "        raise ValueError(\n",
    "            'masks.dtype must be bool type, but it is {}'\n",
    "            .format(masks.dtype)\n",
    "        )\n",
    "    bboxes = []\n",
    "    for mask in masks:\n",
    "        where = np.argwhere(mask)\n",
    "        (y1, x1), (y2, x2) = where.min(0), where.max(0) + 1\n",
    "        bboxes.append((y1, x1, y2, x2))\n",
    "    bboxes = np.asarray(bboxes, dtype=np.float32)\n",
    "    return bboxes"
   ]
  },
  {
   "cell_type": "code",
   "execution_count": null,
   "id": "e5a0c82c",
   "metadata": {},
   "outputs": [],
   "source": []
  }
 ],
 "metadata": {
  "kernelspec": {
   "display_name": "yolov5",
   "language": "python",
   "name": "yolov5"
  },
  "language_info": {
   "codemirror_mode": {
    "name": "ipython",
    "version": 3
   },
   "file_extension": ".py",
   "mimetype": "text/x-python",
   "name": "python",
   "nbconvert_exporter": "python",
   "pygments_lexer": "ipython3",
   "version": "3.8.16"
  }
 },
 "nbformat": 4,
 "nbformat_minor": 5
}
